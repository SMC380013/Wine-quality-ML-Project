{
 "cells": [
  {
   "cell_type": "code",
   "execution_count": 2,
   "metadata": {},
   "outputs": [],
   "source": [
    "# Set the seed value for the notebook so the results are reproducible\n",
    "from numpy.random import seed\n",
    "seed(1)"
   ]
  },
  {
   "cell_type": "code",
   "execution_count": 3,
   "metadata": {
    "slideshow": {
     "slide_type": "subslide"
    }
   },
   "outputs": [],
   "source": [
    "# Dependencies\n",
    "import numpy as np\n",
    "import pandas as pd"
   ]
  },
  {
   "cell_type": "code",
   "execution_count": 4,
   "metadata": {},
   "outputs": [
    {
     "name": "stderr",
     "output_type": "stream",
     "text": [
      "Using TensorFlow backend.\n"
     ]
    },
    {
     "data": {
      "text/plain": [
       "'2.3.1'"
      ]
     },
     "execution_count": 4,
     "metadata": {},
     "output_type": "execute_result"
    }
   ],
   "source": [
    "import keras\n",
    "keras.__version__"
   ]
  },
  {
   "cell_type": "code",
   "execution_count": 5,
   "metadata": {},
   "outputs": [],
   "source": [
    "# Data Set Information:\n",
    "\n",
    "# The two datasets are related to red and white variants of the Portuguese \"Vinho Verde\" wine. For more details, consult: [Web Link] or the reference [Cortez et al., 2009]. Due to privacy and logistic issues, only physicochemical (inputs) and sensory (the output) variables are available (e.g. there is no data about grape types, wine brand, wine selling price, etc.).\n",
    "\n",
    "# These datasets can be viewed as classification or regression tasks. The classes are ordered and not balanced (e.g. there are many more normal wines than excellent or poor ones). Outlier detection algorithms could be used to detect the few excellent or poor wines. Also, we are not sure if all input variables are relevant. So it could be interesting to test feature selection methods.\n",
    "\n",
    "\n",
    "# Attribute Information:\n",
    "\n",
    "# For more information, read [Cortez et al., 2009].\n",
    "# Input variables (based on physicochemical tests):\n",
    "# 1 - fixed acidity\n",
    "# 2 - volatile acidity\n",
    "# 3 - citric acid\n",
    "# 4 - residual sugar\n",
    "# 5 - chlorides\n",
    "# 6 - free sulfur dioxide\n",
    "# 7 - total sulfur dioxide\n",
    "# 8 - density\n",
    "# 9 - pH\n",
    "# 10 - sulphates\n",
    "# 11 - alcohol\n",
    "# Output variable (based on sensory data):\n",
    "# 12 - quality (score between 0 and 10)"
   ]
  },
  {
   "cell_type": "code",
   "execution_count": 6,
   "metadata": {
    "scrolled": true,
    "slideshow": {
     "slide_type": "fragment"
    }
   },
   "outputs": [
    {
     "data": {
      "text/html": [
       "<div>\n",
       "<style scoped>\n",
       "    .dataframe tbody tr th:only-of-type {\n",
       "        vertical-align: middle;\n",
       "    }\n",
       "\n",
       "    .dataframe tbody tr th {\n",
       "        vertical-align: top;\n",
       "    }\n",
       "\n",
       "    .dataframe thead th {\n",
       "        text-align: right;\n",
       "    }\n",
       "</style>\n",
       "<table border=\"1\" class=\"dataframe\">\n",
       "  <thead>\n",
       "    <tr style=\"text-align: right;\">\n",
       "      <th></th>\n",
       "      <th>fixed acidity</th>\n",
       "      <th>volatile acidity</th>\n",
       "      <th>citric acid</th>\n",
       "      <th>residual sugar</th>\n",
       "      <th>chlorides</th>\n",
       "      <th>free sulfur dioxide</th>\n",
       "      <th>total sulfur dioxide</th>\n",
       "      <th>density</th>\n",
       "      <th>pH</th>\n",
       "      <th>sulphates</th>\n",
       "      <th>alcohol</th>\n",
       "      <th>quality</th>\n",
       "    </tr>\n",
       "  </thead>\n",
       "  <tbody>\n",
       "    <tr>\n",
       "      <th>0</th>\n",
       "      <td>7.4</td>\n",
       "      <td>0.70</td>\n",
       "      <td>0.00</td>\n",
       "      <td>1.9</td>\n",
       "      <td>0.076</td>\n",
       "      <td>11.0</td>\n",
       "      <td>34.0</td>\n",
       "      <td>0.9978</td>\n",
       "      <td>3.51</td>\n",
       "      <td>0.56</td>\n",
       "      <td>9.4</td>\n",
       "      <td>5</td>\n",
       "    </tr>\n",
       "    <tr>\n",
       "      <th>1</th>\n",
       "      <td>7.8</td>\n",
       "      <td>0.88</td>\n",
       "      <td>0.00</td>\n",
       "      <td>2.6</td>\n",
       "      <td>0.098</td>\n",
       "      <td>25.0</td>\n",
       "      <td>67.0</td>\n",
       "      <td>0.9968</td>\n",
       "      <td>3.20</td>\n",
       "      <td>0.68</td>\n",
       "      <td>9.8</td>\n",
       "      <td>5</td>\n",
       "    </tr>\n",
       "    <tr>\n",
       "      <th>2</th>\n",
       "      <td>7.8</td>\n",
       "      <td>0.76</td>\n",
       "      <td>0.04</td>\n",
       "      <td>2.3</td>\n",
       "      <td>0.092</td>\n",
       "      <td>15.0</td>\n",
       "      <td>54.0</td>\n",
       "      <td>0.9970</td>\n",
       "      <td>3.26</td>\n",
       "      <td>0.65</td>\n",
       "      <td>9.8</td>\n",
       "      <td>5</td>\n",
       "    </tr>\n",
       "    <tr>\n",
       "      <th>3</th>\n",
       "      <td>11.2</td>\n",
       "      <td>0.28</td>\n",
       "      <td>0.56</td>\n",
       "      <td>1.9</td>\n",
       "      <td>0.075</td>\n",
       "      <td>17.0</td>\n",
       "      <td>60.0</td>\n",
       "      <td>0.9980</td>\n",
       "      <td>3.16</td>\n",
       "      <td>0.58</td>\n",
       "      <td>9.8</td>\n",
       "      <td>6</td>\n",
       "    </tr>\n",
       "    <tr>\n",
       "      <th>4</th>\n",
       "      <td>7.4</td>\n",
       "      <td>0.70</td>\n",
       "      <td>0.00</td>\n",
       "      <td>1.9</td>\n",
       "      <td>0.076</td>\n",
       "      <td>11.0</td>\n",
       "      <td>34.0</td>\n",
       "      <td>0.9978</td>\n",
       "      <td>3.51</td>\n",
       "      <td>0.56</td>\n",
       "      <td>9.4</td>\n",
       "      <td>5</td>\n",
       "    </tr>\n",
       "  </tbody>\n",
       "</table>\n",
       "</div>"
      ],
      "text/plain": [
       "   fixed acidity  volatile acidity  citric acid  residual sugar  chlorides  \\\n",
       "0            7.4              0.70         0.00             1.9      0.076   \n",
       "1            7.8              0.88         0.00             2.6      0.098   \n",
       "2            7.8              0.76         0.04             2.3      0.092   \n",
       "3           11.2              0.28         0.56             1.9      0.075   \n",
       "4            7.4              0.70         0.00             1.9      0.076   \n",
       "\n",
       "   free sulfur dioxide  total sulfur dioxide  density    pH  sulphates  \\\n",
       "0                 11.0                  34.0   0.9978  3.51       0.56   \n",
       "1                 25.0                  67.0   0.9968  3.20       0.68   \n",
       "2                 15.0                  54.0   0.9970  3.26       0.65   \n",
       "3                 17.0                  60.0   0.9980  3.16       0.58   \n",
       "4                 11.0                  34.0   0.9978  3.51       0.56   \n",
       "\n",
       "   alcohol  quality  \n",
       "0      9.4        5  \n",
       "1      9.8        5  \n",
       "2      9.8        5  \n",
       "3      9.8        6  \n",
       "4      9.4        5  "
      ]
     },
     "execution_count": 6,
     "metadata": {},
     "output_type": "execute_result"
    }
   ],
   "source": [
    "survey = pd.read_csv('Resources/winequality-red.csv')\n",
    "survey.head()"
   ]
  },
  {
   "cell_type": "code",
   "execution_count": 7,
   "metadata": {},
   "outputs": [],
   "source": [
    "# purged_df = survey[[\"alcohol\", \"sulphates\", \"total sulfur dioxide\", \"volatile acidity\", \"quality\"]]\n",
    "# purged_df.head()"
   ]
  },
  {
   "cell_type": "markdown",
   "metadata": {
    "slideshow": {
     "slide_type": "subslide"
    }
   },
   "source": [
    "## Data Pre-Processing"
   ]
  },
  {
   "cell_type": "code",
   "execution_count": 8,
   "metadata": {
    "nbgrader": {
     "grade": false,
     "grade_id": "cell-86a9e3212f200d21",
     "locked": false,
     "schema_version": 1,
     "solution": true
    },
    "slideshow": {
     "slide_type": "subslide"
    }
   },
   "outputs": [
    {
     "name": "stdout",
     "output_type": "stream",
     "text": [
      "(1599, 11) (1599,)\n"
     ]
    }
   ],
   "source": [
    "X = survey.drop(\"quality\", axis=1)\n",
    "y = survey[\"quality\"]\n",
    "print(X.shape, y.shape)"
   ]
  },
  {
   "cell_type": "code",
   "execution_count": 9,
   "metadata": {
    "nbgrader": {
     "grade": false,
     "grade_id": "cell-711a82d9b32c83ff",
     "locked": false,
     "schema_version": 1,
     "solution": true
    },
    "slideshow": {
     "slide_type": "fragment"
    }
   },
   "outputs": [],
   "source": [
    "from sklearn.model_selection import train_test_split\n",
    "from sklearn.preprocessing import LabelEncoder, MinMaxScaler\n",
    "from keras.utils import to_categorical"
   ]
  },
  {
   "cell_type": "code",
   "execution_count": 10,
   "metadata": {
    "nbgrader": {
     "grade": false,
     "grade_id": "cell-711a82d9b32c83ff",
     "locked": false,
     "schema_version": 1,
     "solution": true
    },
    "slideshow": {
     "slide_type": "fragment"
    }
   },
   "outputs": [],
   "source": [
    "X_train, X_test, y_train, y_test = train_test_split(\n",
    "    X, y, random_state=1, stratify=y, train_size=0.75, test_size=0.25)\n"
   ]
  },
  {
   "cell_type": "code",
   "execution_count": 11,
   "metadata": {
    "nbgrader": {
     "grade": false,
     "grade_id": "cell-711a82d9b32c83ff",
     "locked": false,
     "schema_version": 1,
     "solution": true
    },
    "slideshow": {
     "slide_type": "fragment"
    }
   },
   "outputs": [],
   "source": [
    "X_scaler = MinMaxScaler().fit(X_train)\n",
    "X_train_scaled = X_scaler.transform(X_train)\n",
    "X_test_scaled = X_scaler.transform(X_test)"
   ]
  },
  {
   "cell_type": "code",
   "execution_count": 12,
   "metadata": {
    "nbgrader": {
     "grade": false,
     "grade_id": "cell-711a82d9b32c83ff",
     "locked": false,
     "schema_version": 1,
     "solution": true
    },
    "slideshow": {
     "slide_type": "fragment"
    }
   },
   "outputs": [],
   "source": [
    "# Step 1: Label-encode data set\n",
    "label_encoder = LabelEncoder()\n",
    "label_encoder.fit(y_train)\n",
    "encoded_y_train = label_encoder.transform(y_train)\n",
    "encoded_y_test = label_encoder.transform(y_test)"
   ]
  },
  {
   "cell_type": "code",
   "execution_count": 13,
   "metadata": {
    "nbgrader": {
     "grade": false,
     "grade_id": "cell-711a82d9b32c83ff",
     "locked": false,
     "schema_version": 1,
     "solution": true
    },
    "slideshow": {
     "slide_type": "fragment"
    }
   },
   "outputs": [],
   "source": [
    "# Step 2: Convert encoded labels to one-hot-encoding\n",
    "y_train_categorical = to_categorical(encoded_y_train)\n",
    "y_test_categorical = to_categorical(encoded_y_test)"
   ]
  },
  {
   "cell_type": "markdown",
   "metadata": {},
   "source": [
    "# Create a Deep Learning Model"
   ]
  },
  {
   "cell_type": "code",
   "execution_count": 14,
   "metadata": {},
   "outputs": [],
   "source": [
    "from keras.models import Sequential\n",
    "from keras.layers import Dense"
   ]
  },
  {
   "cell_type": "code",
   "execution_count": 15,
   "metadata": {},
   "outputs": [],
   "source": [
    "# Create model and add layers\n",
    "model = Sequential()\n",
    "model.add(Dense(units=100, activation='relu', input_dim=11))\n",
    "model.add(Dense(units=100, activation='relu'))\n",
    "model.add(Dense(units=100, activation='relu'))\n",
    "model.add(Dense(units=100, activation='relu'))\n",
    "# model.add(Dense(units=100, activation='relu'))\n",
    "# model.add(Dense(units=100, activation='relu'))\n",
    "# model.add(Dense(units=100, activation='relu'))\n",
    "# model.add(Dense(units=100, activation='relu'))\n",
    "model.add(Dense(units=6, activation='softmax'))"
   ]
  },
  {
   "cell_type": "code",
   "execution_count": 16,
   "metadata": {},
   "outputs": [],
   "source": [
    "# Compile and fit the model\n",
    "model.compile(optimizer='adam',\n",
    "              loss='categorical_crossentropy',\n",
    "              metrics=['accuracy'])"
   ]
  },
  {
   "cell_type": "code",
   "execution_count": 17,
   "metadata": {},
   "outputs": [
    {
     "name": "stdout",
     "output_type": "stream",
     "text": [
      "Model: \"sequential_1\"\n",
      "_________________________________________________________________\n",
      "Layer (type)                 Output Shape              Param #   \n",
      "=================================================================\n",
      "dense_1 (Dense)              (None, 100)               1200      \n",
      "_________________________________________________________________\n",
      "dense_2 (Dense)              (None, 100)               10100     \n",
      "_________________________________________________________________\n",
      "dense_3 (Dense)              (None, 100)               10100     \n",
      "_________________________________________________________________\n",
      "dense_4 (Dense)              (None, 100)               10100     \n",
      "_________________________________________________________________\n",
      "dense_5 (Dense)              (None, 6)                 606       \n",
      "=================================================================\n",
      "Total params: 32,106\n",
      "Trainable params: 32,106\n",
      "Non-trainable params: 0\n",
      "_________________________________________________________________\n"
     ]
    }
   ],
   "source": [
    "model.summary()"
   ]
  },
  {
   "cell_type": "code",
   "execution_count": 18,
   "metadata": {},
   "outputs": [
    {
     "name": "stdout",
     "output_type": "stream",
     "text": [
      "Epoch 1/100\n",
      " - 0s - loss: 1.3653 - accuracy: 0.4204\n",
      "Epoch 2/100\n",
      " - 0s - loss: 1.1449 - accuracy: 0.4846\n",
      "Epoch 3/100\n",
      " - 0s - loss: 1.0519 - accuracy: 0.5388\n",
      "Epoch 4/100\n",
      " - 0s - loss: 1.0022 - accuracy: 0.5897\n",
      "Epoch 5/100\n",
      " - 0s - loss: 0.9810 - accuracy: 0.5897\n",
      "Epoch 6/100\n",
      " - 0s - loss: 0.9661 - accuracy: 0.6030\n",
      "Epoch 7/100\n",
      " - 0s - loss: 0.9594 - accuracy: 0.6155\n",
      "Epoch 8/100\n",
      " - 0s - loss: 0.9621 - accuracy: 0.5922\n",
      "Epoch 9/100\n",
      " - 0s - loss: 0.9510 - accuracy: 0.5997\n",
      "Epoch 10/100\n",
      " - 0s - loss: 0.9343 - accuracy: 0.6222\n",
      "Epoch 11/100\n",
      " - 0s - loss: 0.9245 - accuracy: 0.6180\n",
      "Epoch 12/100\n",
      " - 0s - loss: 0.9322 - accuracy: 0.5963\n",
      "Epoch 13/100\n",
      " - 0s - loss: 0.9233 - accuracy: 0.6038\n",
      "Epoch 14/100\n",
      " - 0s - loss: 0.9123 - accuracy: 0.6197\n",
      "Epoch 15/100\n",
      " - 0s - loss: 0.9038 - accuracy: 0.6205\n",
      "Epoch 16/100\n",
      " - 0s - loss: 0.9184 - accuracy: 0.6138\n",
      "Epoch 17/100\n",
      " - 0s - loss: 0.9132 - accuracy: 0.6172\n",
      "Epoch 18/100\n",
      " - 0s - loss: 0.9068 - accuracy: 0.6163\n",
      "Epoch 19/100\n",
      " - 0s - loss: 0.8999 - accuracy: 0.6205\n",
      "Epoch 20/100\n",
      " - 0s - loss: 0.8945 - accuracy: 0.6305\n",
      "Epoch 21/100\n",
      " - 0s - loss: 0.8999 - accuracy: 0.6280\n",
      "Epoch 22/100\n",
      " - 0s - loss: 0.8772 - accuracy: 0.6305\n",
      "Epoch 23/100\n",
      " - 0s - loss: 0.8693 - accuracy: 0.6414\n",
      "Epoch 24/100\n",
      " - 0s - loss: 0.8660 - accuracy: 0.6405\n",
      "Epoch 25/100\n",
      " - 0s - loss: 0.8793 - accuracy: 0.6389\n",
      "Epoch 26/100\n",
      " - 0s - loss: 0.8692 - accuracy: 0.6255\n",
      "Epoch 27/100\n",
      " - 0s - loss: 0.8525 - accuracy: 0.6530\n",
      "Epoch 28/100\n",
      " - 0s - loss: 0.8540 - accuracy: 0.6564\n",
      "Epoch 29/100\n",
      " - 0s - loss: 0.8554 - accuracy: 0.6422\n",
      "Epoch 30/100\n",
      " - 0s - loss: 0.8476 - accuracy: 0.6455\n",
      "Epoch 31/100\n",
      " - 0s - loss: 0.8402 - accuracy: 0.6497\n",
      "Epoch 32/100\n",
      " - 0s - loss: 0.8416 - accuracy: 0.6414\n",
      "Epoch 33/100\n",
      " - 0s - loss: 0.8419 - accuracy: 0.6564\n",
      "Epoch 34/100\n",
      " - 0s - loss: 0.8322 - accuracy: 0.6664\n",
      "Epoch 35/100\n",
      " - 0s - loss: 0.8260 - accuracy: 0.6564\n",
      "Epoch 36/100\n",
      " - 0s - loss: 0.8318 - accuracy: 0.6614\n",
      "Epoch 37/100\n",
      " - 0s - loss: 0.8225 - accuracy: 0.6639\n",
      "Epoch 38/100\n",
      " - 0s - loss: 0.8068 - accuracy: 0.6672\n",
      "Epoch 39/100\n",
      " - 0s - loss: 0.8058 - accuracy: 0.6672\n",
      "Epoch 40/100\n",
      " - 0s - loss: 0.7989 - accuracy: 0.6789\n",
      "Epoch 41/100\n",
      " - 0s - loss: 0.8124 - accuracy: 0.6639\n",
      "Epoch 42/100\n",
      " - 0s - loss: 0.8051 - accuracy: 0.6706\n",
      "Epoch 43/100\n",
      " - 0s - loss: 0.7920 - accuracy: 0.6822\n",
      "Epoch 44/100\n",
      " - 0s - loss: 0.7936 - accuracy: 0.6647\n",
      "Epoch 45/100\n",
      " - 0s - loss: 0.7878 - accuracy: 0.6822\n",
      "Epoch 46/100\n",
      " - 0s - loss: 0.7885 - accuracy: 0.6772\n",
      "Epoch 47/100\n",
      " - 0s - loss: 0.7771 - accuracy: 0.6731\n",
      "Epoch 48/100\n",
      " - 0s - loss: 0.7679 - accuracy: 0.6781\n",
      "Epoch 49/100\n",
      " - 0s - loss: 0.7737 - accuracy: 0.6947\n",
      "Epoch 50/100\n",
      " - 0s - loss: 0.7558 - accuracy: 0.6864\n",
      "Epoch 51/100\n",
      " - 0s - loss: 0.7564 - accuracy: 0.6914\n",
      "Epoch 52/100\n",
      " - 0s - loss: 0.7576 - accuracy: 0.6789\n",
      "Epoch 53/100\n",
      " - 0s - loss: 0.7453 - accuracy: 0.7031\n",
      "Epoch 54/100\n",
      " - 0s - loss: 0.7413 - accuracy: 0.6856\n",
      "Epoch 55/100\n",
      " - 0s - loss: 0.7387 - accuracy: 0.6897\n",
      "Epoch 56/100\n",
      " - 0s - loss: 0.7288 - accuracy: 0.6931\n",
      "Epoch 57/100\n",
      " - 0s - loss: 0.7313 - accuracy: 0.6872\n",
      "Epoch 58/100\n",
      " - 0s - loss: 0.7222 - accuracy: 0.6864\n",
      "Epoch 59/100\n",
      " - 0s - loss: 0.7080 - accuracy: 0.7139\n",
      "Epoch 60/100\n",
      " - 0s - loss: 0.7223 - accuracy: 0.6931\n",
      "Epoch 61/100\n",
      " - 0s - loss: 0.7054 - accuracy: 0.7114\n",
      "Epoch 62/100\n",
      " - 0s - loss: 0.7105 - accuracy: 0.6989\n",
      "Epoch 63/100\n",
      " - 0s - loss: 0.7006 - accuracy: 0.7106\n",
      "Epoch 64/100\n",
      " - 0s - loss: 0.7227 - accuracy: 0.6897\n",
      "Epoch 65/100\n",
      " - 0s - loss: 0.6965 - accuracy: 0.7064\n",
      "Epoch 66/100\n",
      " - 0s - loss: 0.6790 - accuracy: 0.7156\n",
      "Epoch 67/100\n",
      " - 0s - loss: 0.6717 - accuracy: 0.7189\n",
      "Epoch 68/100\n",
      " - 0s - loss: 0.6639 - accuracy: 0.7323\n",
      "Epoch 69/100\n",
      " - 0s - loss: 0.6557 - accuracy: 0.7264\n",
      "Epoch 70/100\n",
      " - 0s - loss: 0.6497 - accuracy: 0.7415\n",
      "Epoch 71/100\n",
      " - 0s - loss: 0.6397 - accuracy: 0.7415\n",
      "Epoch 72/100\n",
      " - 0s - loss: 0.6483 - accuracy: 0.7364\n",
      "Epoch 73/100\n",
      " - 0s - loss: 0.6341 - accuracy: 0.7423\n",
      "Epoch 74/100\n",
      " - 0s - loss: 0.6310 - accuracy: 0.7306\n",
      "Epoch 75/100\n",
      " - 0s - loss: 0.6423 - accuracy: 0.7364\n",
      "Epoch 76/100\n",
      " - 0s - loss: 0.6388 - accuracy: 0.7415\n",
      "Epoch 77/100\n",
      " - 0s - loss: 0.6158 - accuracy: 0.7448\n",
      "Epoch 78/100\n",
      " - 0s - loss: 0.6015 - accuracy: 0.7531\n",
      "Epoch 79/100\n",
      " - 0s - loss: 0.6029 - accuracy: 0.7665\n",
      "Epoch 80/100\n",
      " - 0s - loss: 0.6205 - accuracy: 0.7381\n",
      "Epoch 81/100\n",
      " - 0s - loss: 0.5937 - accuracy: 0.7631\n",
      "Epoch 82/100\n",
      " - 0s - loss: 0.5836 - accuracy: 0.7690\n",
      "Epoch 83/100\n",
      " - 0s - loss: 0.5962 - accuracy: 0.7623\n",
      "Epoch 84/100\n",
      " - 0s - loss: 0.5755 - accuracy: 0.7640\n",
      "Epoch 85/100\n",
      " - 0s - loss: 0.5649 - accuracy: 0.7765\n",
      "Epoch 86/100\n",
      " - 0s - loss: 0.5906 - accuracy: 0.7698\n",
      "Epoch 87/100\n",
      " - 0s - loss: 0.5750 - accuracy: 0.7623\n",
      "Epoch 88/100\n",
      " - 0s - loss: 0.5798 - accuracy: 0.7623\n",
      "Epoch 89/100\n",
      " - 0s - loss: 0.5779 - accuracy: 0.7740\n",
      "Epoch 90/100\n",
      " - 0s - loss: 0.5536 - accuracy: 0.7690\n",
      "Epoch 91/100\n",
      " - 0s - loss: 0.5346 - accuracy: 0.7882\n",
      "Epoch 92/100\n",
      " - 0s - loss: 0.5338 - accuracy: 0.7840\n",
      "Epoch 93/100\n",
      " - 0s - loss: 0.5603 - accuracy: 0.7706\n",
      "Epoch 94/100\n",
      " - 0s - loss: 0.5568 - accuracy: 0.7765\n",
      "Epoch 95/100\n",
      " - 0s - loss: 0.5619 - accuracy: 0.7665\n",
      "Epoch 96/100\n",
      " - 0s - loss: 0.5237 - accuracy: 0.7873\n",
      "Epoch 97/100\n",
      " - 0s - loss: 0.5099 - accuracy: 0.7957\n",
      "Epoch 98/100\n",
      " - 0s - loss: 0.5162 - accuracy: 0.7907\n",
      "Epoch 99/100\n",
      " - 0s - loss: 0.5358 - accuracy: 0.7798\n",
      "Epoch 100/100\n",
      " - 0s - loss: 0.4959 - accuracy: 0.7948\n"
     ]
    },
    {
     "data": {
      "text/plain": [
       "<keras.callbacks.callbacks.History at 0x2bc917b0be0>"
      ]
     },
     "execution_count": 18,
     "metadata": {},
     "output_type": "execute_result"
    }
   ],
   "source": [
    "model.fit(\n",
    "    X_train_scaled,\n",
    "    y_train_categorical,\n",
    "    epochs=100,\n",
    "    shuffle=True,\n",
    "    verbose=2\n",
    ")"
   ]
  },
  {
   "cell_type": "markdown",
   "metadata": {},
   "source": [
    "## Quantify our Trained Model"
   ]
  },
  {
   "cell_type": "code",
   "execution_count": 19,
   "metadata": {},
   "outputs": [
    {
     "name": "stdout",
     "output_type": "stream",
     "text": [
      "Normal Neural Network - Loss: 1.2307132434844972, Accuracy: 0.6000000238418579\n"
     ]
    }
   ],
   "source": [
    "model_loss, model_accuracy = model.evaluate(\n",
    "    X_test_scaled, y_test_categorical, verbose=2)\n",
    "print(\n",
    "    f\"Normal Neural Network - Loss: {model_loss}, Accuracy: {model_accuracy}\")"
   ]
  },
  {
   "cell_type": "markdown",
   "metadata": {
    "slideshow": {
     "slide_type": "subslide"
    }
   },
   "source": [
    "## Make Predictions"
   ]
  },
  {
   "cell_type": "code",
   "execution_count": 20,
   "metadata": {
    "nbgrader": {
     "grade": false,
     "grade_id": "cell-f97eb3e97245187b",
     "locked": false,
     "schema_version": 1,
     "solution": true
    },
    "slideshow": {
     "slide_type": "fragment"
    }
   },
   "outputs": [],
   "source": [
    "encoded_predictions = model.predict_classes(X_test_scaled[:5])\n",
    "prediction_labels = label_encoder.inverse_transform(encoded_predictions)"
   ]
  },
  {
   "cell_type": "code",
   "execution_count": 21,
   "metadata": {},
   "outputs": [
    {
     "name": "stdout",
     "output_type": "stream",
     "text": [
      "Predicted classes: [array([0., 0., 1., 0., 0., 0.], dtype=float32), array([0., 0., 1., 0., 0., 0.], dtype=float32), array([0., 0., 1., 0., 0., 0.], dtype=float32), array([0., 0., 0., 1., 0., 0.], dtype=float32), array([0., 0., 0., 1., 0., 0.], dtype=float32)]\n",
      "Actual Labels: [6, 5, 8, 4, 5]\n"
     ]
    }
   ],
   "source": [
    "print(f\"Predicted classes: {list(y_train_categorical[:5])}\")\n",
    "print(f\"Actual Labels: {list(y_test[:5])}\")"
   ]
  },
  {
   "cell_type": "code",
   "execution_count": 22,
   "metadata": {},
   "outputs": [],
   "source": [
    "# Save the model\n",
    "model.save('redwinequality_model_trained.h5')"
   ]
  },
  {
   "cell_type": "code",
   "execution_count": 23,
   "metadata": {},
   "outputs": [],
   "source": [
    "# Load the model\n",
    "from keras.models import load_model\n",
    "survey_model = load_model('redwinequality_model_trained.h5')"
   ]
  },
  {
   "cell_type": "code",
   "execution_count": 24,
   "metadata": {},
   "outputs": [
    {
     "name": "stdout",
     "output_type": "stream",
     "text": [
      "Loaded Model Loss: 1.2307132434844972, Accuracy: 0.6000000238418579\n"
     ]
    }
   ],
   "source": [
    "#Evaluate\n",
    "model_loss, model_accuracy = survey_model.evaluate(\n",
    "    X_test_scaled, y_test_categorical, verbose=2\n",
    ")\n",
    "\n",
    "print(f'Loaded Model Loss: {model_loss}, Accuracy: {model_accuracy}')"
   ]
  },
  {
   "cell_type": "code",
   "execution_count": null,
   "metadata": {},
   "outputs": [],
   "source": []
  }
 ],
 "metadata": {
  "kernelspec": {
   "display_name": "Python 3",
   "language": "python",
   "name": "python3"
  },
  "language_info": {
   "codemirror_mode": {
    "name": "ipython",
    "version": 3
   },
   "file_extension": ".py",
   "mimetype": "text/x-python",
   "name": "python",
   "nbconvert_exporter": "python",
   "pygments_lexer": "ipython3",
   "version": "3.6.8"
  },
  "varInspector": {
   "cols": {
    "lenName": 16,
    "lenType": 16,
    "lenVar": 40
   },
   "kernels_config": {
    "python": {
     "delete_cmd_postfix": "",
     "delete_cmd_prefix": "del ",
     "library": "var_list.py",
     "varRefreshCmd": "print(var_dic_list())"
    },
    "r": {
     "delete_cmd_postfix": ") ",
     "delete_cmd_prefix": "rm(",
     "library": "var_list.r",
     "varRefreshCmd": "cat(var_dic_list()) "
    }
   },
   "types_to_exclude": [
    "module",
    "function",
    "builtin_function_or_method",
    "instance",
    "_Feature"
   ],
   "window_display": false
  }
 },
 "nbformat": 4,
 "nbformat_minor": 2
}
